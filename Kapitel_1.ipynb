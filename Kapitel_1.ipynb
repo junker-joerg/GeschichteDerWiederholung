{
 "cells": [
  {
   "cell_type": "code",
   "execution_count": 1,
   "metadata": {},
   "outputs": [],
   "source": [
    "import sys\n",
    "import logging"
   ]
  },
  {
   "cell_type": "code",
   "execution_count": 2,
   "metadata": {},
   "outputs": [
    {
     "name": "stdout",
     "output_type": "stream",
     "text": [
      "und hier geht es los\n"
     ]
    }
   ],
   "source": [
    "print(\"und hier geht es los\")"
   ]
  },
  {
   "cell_type": "code",
   "execution_count": 1,
   "metadata": {},
   "outputs": [
    {
     "name": "stdout",
     "output_type": "stream",
     "text": [
      "und hier mit Jupyter Gitlab vom i3 Linux Desktop\n"
     ]
    }
   ],
   "source": [
    "print(\"und hier mit Jupyter Gitlab vom i3 Linux Desktop\")"
   ]
  },
  {
   "cell_type": "code",
   "execution_count": 2,
   "metadata": {},
   "outputs": [
    {
     "name": "stdout",
     "output_type": "stream",
     "text": [
      "und hier mit Jupyter Gitlab vom i3 Linux Desktop 2 ter Versuch\n"
     ]
    }
   ],
   "source": [
    "print(\"und hier mit Jupyter Gitlab vom i3 Linux Desktop 2 ter Versuch\")"
   ]
  },
  {
   "cell_type": "code",
   "execution_count": 1,
   "metadata": {},
   "outputs": [
    {
     "name": "stdout",
     "output_type": "stream",
     "text": [
      "und hier mit Jupyter Gitlab vom i3 Linux Desktop 3 ter Versuch\n"
     ]
    }
   ],
   "source": [
    "print(\"und hier mit Jupyter Gitlab vom i3 Linux Desktop 3 ter Versuch\")"
   ]
  },
  {
   "cell_type": "code",
   "execution_count": null,
   "metadata": {},
   "outputs": [],
   "source": []
  }
 ],
 "metadata": {
  "kernelspec": {
   "display_name": "Python [conda env:nlp]",
   "language": "python",
   "name": "conda-env-nlp-py"
  },
  "language_info": {
   "codemirror_mode": {
    "name": "ipython",
    "version": 3
   },
   "file_extension": ".py",
   "mimetype": "text/x-python",
   "name": "python",
   "nbconvert_exporter": "python",
   "pygments_lexer": "ipython3",
   "version": "3.6.10"
  },
  "toc-showmarkdowntxt": true
 },
 "nbformat": 4,
 "nbformat_minor": 4
}
